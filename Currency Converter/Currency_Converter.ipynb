{
  "nbformat": 4,
  "nbformat_minor": 0,
  "metadata": {
    "colab": {
      "provenance": []
    },
    "kernelspec": {
      "name": "python3",
      "display_name": "Python 3"
    },
    "language_info": {
      "name": "python"
    }
  },
  "cells": [
    {
      "cell_type": "code",
      "source": [
        "pip install forex-python"
      ],
      "metadata": {
        "id": "gVV_wmjDV_Be"
      },
      "execution_count": null,
      "outputs": []
    },
    {
      "cell_type": "code",
      "source": [
        "from forex_python.converter import CurrencyRates\n",
        "\n",
        "def convert_currency(amount, from_currency, to_currency):\n",
        "    c = CurrencyRates()\n",
        "    converted_amount = c.convert(from_currency, to_currency, amount)\n",
        "    return converted_amount\n",
        "\n",
        "if __name__ == \"__main__\":\n",
        "    amount = float(input(\"Enter the amount: \"))\n",
        "    from_currency = input(\"Enter the source currency: \").upper()\n",
        "    to_currency = input(\"Enter the target currency: \").upper()\n",
        "\n",
        "    converted_amount = convert_currency(amount, from_currency, to_currency)\n",
        "    print(f\"{amount} {from_currency} is equal to {converted_amount:.2f} {to_currency}\")\n"
      ],
      "metadata": {
        "id": "W9u_tQMlV_GG"
      },
      "execution_count": null,
      "outputs": []
    }
  ]
}